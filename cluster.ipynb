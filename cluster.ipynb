{
 "cells": [
  {
   "cell_type": "code",
   "execution_count": 156,
   "metadata": {
    "collapsed": true
   },
   "outputs": [],
   "source": [
    "from sklearn.datasets import load_iris\n",
    "import numpy as np\n",
    "from scipy.spatial.distance import cdist\n",
    "import matplotlib.pyplot as plt\n",
    "%matplotlib inline\n",
    "import matplotlib.cm as cm\n",
    "from sklearn.metrics import silhouette_score"
   ]
  },
  {
   "cell_type": "code",
   "execution_count": 144,
   "metadata": {
    "collapsed": true
   },
   "outputs": [],
   "source": [
    "iris = load_iris()\n",
    "x = iris.data"
   ]
  },
  {
   "cell_type": "code",
   "execution_count": 313,
   "metadata": {
    "collapsed": true
   },
   "outputs": [],
   "source": [
    "def kmeans(k,x):\n",
    "    lst = []\n",
    "    dists = 0\n",
    "    d = 0\n",
    "    for i in xrange(k):\n",
    "        lst.append(x[np.random.randint(len(x)),:])\n",
    "    arr = np.array(lst)\n",
    "    d = cdist( arr, x )\n",
    "    dists = np.argmin(d,axis=0)\n",
    "    for i in xrange(1000):\n",
    "        ind_lst = []\n",
    "        for i in xrange(k):\n",
    "            ind_lst.append(np.where(dists==i))\n",
    "        lst = []\n",
    "        for i in ind_lst:\n",
    "            lst.append(np.mean(x[i],axis=0))\n",
    "        arr = np.array(lst)\n",
    "        d = cdist( arr, x )\n",
    "        dists = np.argmin(d,axis=0)\n",
    "    return np.sum(np.min(d,axis=0)),dists"
   ]
  },
  {
   "cell_type": "code",
   "execution_count": 314,
   "metadata": {
    "collapsed": false
   },
   "outputs": [],
   "source": [
    "error_lst = []\n",
    "for i in xrange(2,13):\n",
    "    error_lst.append(kmeans(i,x)[0])"
   ]
  },
  {
   "cell_type": "code",
   "execution_count": 315,
   "metadata": {
    "collapsed": false
   },
   "outputs": [
    {
     "data": {
      "text/plain": [
       "[128.40419523672944,\n",
       " 97.346219694156815,\n",
       " 84.748834477518244,\n",
       " 88.37238574060143,\n",
       " 74.061461825325125,\n",
       " 66.321902386035632,\n",
       " 66.593461332136698,\n",
       " 62.690279966020839,\n",
       " 66.723150954540756,\n",
       " 60.704247800785687,\n",
       " 61.453082156444772]"
      ]
     },
     "execution_count": 315,
     "metadata": {},
     "output_type": "execute_result"
    }
   ],
   "source": [
    "error_lst"
   ]
  },
  {
   "cell_type": "code",
   "execution_count": 304,
   "metadata": {
    "collapsed": false
   },
   "outputs": [
    {
     "data": {
      "text/plain": [
       "[<matplotlib.lines.Line2D at 0x122a2b1d0>]"
      ]
     },
     "execution_count": 304,
     "metadata": {},
     "output_type": "execute_result"
    },
    {
     "data": {
      "image/png": "[encoded data removed]",
      "text/plain": [
       "<matplotlib.figure.Figure at 0x122c34750>"
      ]
     },
     "metadata": {},
     "output_type": "display_data"
    }
   ],
   "source": [
    "plt.plot(error_lst)"
   ]
  },
  {
   "cell_type": "code",
   "execution_count": 325,
   "metadata": {
    "collapsed": false
   },
   "outputs": [],
   "source": [
    "sil_lst = []\n",
    "for i in xrange(2,11):\n",
    "    sil_lst.append(kmeans(i,x)[1])\n",
    "#     sil_lst.append(silhouette_score(x,kmeans(i,x)[1]))"
   ]
  },
  {
   "cell_type": "code",
   "execution_count": 326,
   "metadata": {
    "collapsed": false,
    "scrolled": true
   },
   "outputs": [
    {
     "name": "stdout",
     "output_type": "stream",
     "text": [
      "0.319186379729\n",
      "0.447408055479\n",
      "0.504880004503\n",
      "0.507144408202\n",
      "0.588185891344\n",
      "0.66763154539\n",
      "0.737263920601\n",
      "0.678989621087\n",
      "0.669605931382\n"
     ]
    }
   ],
   "source": [
    "sil_scores = []\n",
    "for i in sil_lst:\n",
    "    print 1-silhouette_score(x,i,metric='euclidean')"
   ]
  },
  {
   "cell_type": "code",
   "execution_count": 219,
   "metadata": {
    "collapsed": false
   },
   "outputs": [
    {
     "data": {
      "text/plain": [
       "array([1, 1, 1, 1, 1, 1, 1, 1, 1, 1, 1, 1, 1, 1, 1, 1, 1, 1, 1, 1, 1, 1, 1,\n",
       "       1, 1, 1, 1, 1, 1, 1, 1, 1, 1, 1, 1, 1, 1, 1, 1, 1, 1, 1, 1, 1, 1, 1,\n",
       "       1, 1, 1, 1, 2, 2, 0, 2, 2, 2, 2, 2, 2, 2, 2, 2, 2, 2, 2, 2, 2, 2, 2,\n",
       "       2, 2, 2, 2, 2, 2, 2, 2, 0, 2, 2, 2, 2, 2, 2, 2, 2, 2, 2, 2, 2, 2, 2,\n",
       "       2, 2, 2, 2, 2, 2, 2, 2, 0, 2, 0, 0, 0, 0, 2, 0, 0, 0, 0, 0, 0, 2, 2,\n",
       "       0, 0, 0, 0, 2, 0, 2, 0, 2, 0, 0, 2, 2, 0, 0, 0, 0, 0, 2, 0, 0, 0, 0,\n",
       "       2, 0, 0, 0, 2, 0, 0, 0, 2, 0, 0, 2])"
      ]
     },
     "execution_count": 219,
     "metadata": {},
     "output_type": "execute_result"
    }
   ],
   "source": [
    "sil_lst[1]"
   ]
  },
  {
   "cell_type": "code",
   "execution_count": null,
   "metadata": {
    "collapsed": true
   },
   "outputs": [],
   "source": []
  },
  {
   "cell_type": "code",
   "execution_count": null,
   "metadata": {
    "collapsed": true
   },
   "outputs": [],
   "source": []
  },
  {
   "cell_type": "code",
   "execution_count": null,
   "metadata": {
    "collapsed": true
   },
   "outputs": [],
   "source": []
  },
  {
   "cell_type": "code",
   "execution_count": 24,
   "metadata": {
    "collapsed": false
   },
   "outputs": [],
   "source": [
    "fin_lst = []\n",
    "for i in xrange(10):\n",
    "    fin_lst.append(np.where(dists==i))"
   ]
  },
  {
   "cell_type": "code",
   "execution_count": 85,
   "metadata": {
    "collapsed": false
   },
   "outputs": [
    {
     "data": {
      "image/png": "[encoded data removed]",
      "text/plain": [
       "<matplotlib.figure.Figure at 0x122c0f350>"
      ]
     },
     "metadata": {},
     "output_type": "display_data"
    }
   ],
   "source": [
    "fig, ax = plt.subplots(nrows=4,ncols=2)\n",
    "inds = [(i,j) for i in range(4) for j in range(4) if i!=j]\n",
    "for row in ax:\n",
    "    for col in row:\n",
    "        for i in xrange(10):\n",
    "            col.scatter(x[fin_lst[i]][:,inds[i][0]]\\\n",
    "           ,x[fin_lst[i]][:,inds[i][1]],color=colors[i])"
   ]
  },
  {
   "cell_type": "code",
   "execution_count": null,
   "metadata": {
    "collapsed": true
   },
   "outputs": [],
   "source": []
  }
 ],
 "metadata": {
  "kernelspec": {
   "display_name": "Python 2",
   "language": "python",
   "name": "python2"
  },
  "language_info": {
   "codemirror_mode": {
    "name": "ipython",
    "version": 2
   },
   "file_extension": ".py",
   "mimetype": "text/x-python",
   "name": "python",
   "nbconvert_exporter": "python",
   "pygments_lexer": "ipython2",
   "version": "2.7.13"
  }
 },
 "nbformat": 4,
 "nbformat_minor": 2
}
